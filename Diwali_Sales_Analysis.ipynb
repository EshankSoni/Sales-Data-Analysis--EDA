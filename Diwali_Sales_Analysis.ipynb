{
 "cells": [
  {
   "cell_type": "markdown",
   "id": "2339ea6f",
   "metadata": {},
   "source": [
    "# <center>Diwali Sales Analysis</center>"
   ]
  },
  {
   "cell_type": "markdown",
   "id": "dd39623d",
   "metadata": {},
   "source": [
    "## Overview\n",
    "In this project, we conducted a comprehensive analysis of Diwali sales data using Python and various data analysis libraries like **NumPy, Pandas, Matplotlib and Seaborn**. The primary aim of the analysis was to gain insights into customer behavior, purchasing trends, and key contributing factors to sales during the festive season. By leveraging data visualization and exploratory data analysis techniques, we delved into various aspects of the data to uncover meaningful patterns and observations."
   ]
  },
  {
   "cell_type": "markdown",
   "id": "01be0a19",
   "metadata": {},
   "source": [
    "## Project Description\n",
    "The project involved the following steps:\n",
    "\n",
    "**Data Import and Preliminary Analysis:**\n",
    "We started by importing the Diwali sales data from a CSV file. Using Python libraries such as NumPy, Pandas, Matplotlib, and Seaborn, we loaded the dataset, examined its structure, and gained an initial understanding of the available columns.\n",
    "\n",
    "**Data Cleaning and Preprocessing:**\n",
    "Before proceeding with the analysis, we performed data cleaning and preprocessing steps. This included dropping irrelevant columns, handling missing values, and converting data types to appropriate formats.\n",
    "\n",
    "**Exploratory Data Analysis:**\n",
    "The heart of our analysis was the exploratory data analysis phase. We explored various aspects of the data, including gender distribution, age groups of buyers, sales across different states, marital status of customers, occupations, and popular product categories. Through visualizations like bar charts, we visually depicted trends, correlations, and insights in each of these categories."
   ]
  },
  {
   "cell_type": "code",
   "execution_count": 1,
   "id": "0979edbb",
   "metadata": {},
   "outputs": [],
   "source": [
    "# import python libraries\n",
    "\n",
    "import numpy as np \n",
    "import pandas as pd \n",
    "from matplotlib import pyplot as plt\n",
    "import seaborn as sns"
   ]
  },
  {
   "cell_type": "code",
   "execution_count": 2,
   "id": "7fbfb436",
   "metadata": {},
   "outputs": [],
   "source": [
    "# import csv file\n",
    "df = pd.read_csv('Diwali_Sales_Data.csv')"
   ]
  },
  {
   "cell_type": "code",
   "execution_count": 3,
   "id": "b8db4a5b",
   "metadata": {},
   "outputs": [],
   "source": [
    "df.shape"
   ]
  },
  {
   "cell_type": "code",
   "execution_count": 4,
   "id": "662c471c",
   "metadata": {},
   "outputs": [],
   "source": [
    "df.head()"
   ]
  },
  {
   "cell_type": "code",
   "execution_count": 5,
   "id": "0814c45b",
   "metadata": {},
   "outputs": [],
   "source": [
    "df.info()"
   ]
  },
  {
   "cell_type": "code",
   "execution_count": 6,
   "id": "29afa95b",
   "metadata": {},
   "outputs": [],
   "source": [
    "#drop unrelated/blank columns\n",
    "df.drop(['Status', 'unnamed1'], axis=1, inplace=True)"
   ]
  },
  {
   "cell_type": "code",
   "execution_count": 7,
   "id": "5cee58eb",
   "metadata": {},
   "outputs": [],
   "source": [
    "#check for null values\n",
    "pd.isnull(df).sum()"
   ]
  },
  {
   "cell_type": "code",
   "execution_count": 8,
   "id": "65de74e3",
   "metadata": {},
   "outputs": [],
   "source": [
    "# drop null values\n",
    "df.dropna(inplace=True)"
   ]
  },
  {
   "cell_type": "code",
   "execution_count": 9,
   "id": "f0a8cd4e",
   "metadata": {},
   "outputs": [],
   "source": [
    "#check data type of Amount column\n",
    "df['Amount'].dtypes"
   ]
  },
  {
   "cell_type": "code",
   "execution_count": 10,
   "id": "14e4ff48",
   "metadata": {},
   "outputs": [],
   "source": [
    "# change data type\n",
    "df['Amount'] = df['Amount'].astype('int')"
   ]
  },
  {
   "cell_type": "code",
   "execution_count": 11,
   "id": "aa6752dc",
   "metadata": {},
   "outputs": [],
   "source": [
    "df['Amount'].dtypes"
   ]
  },
  {
   "cell_type": "code",
   "execution_count": 12,
   "id": "5f723a99",
   "metadata": {},
   "outputs": [],
   "source": [
    "df.columns"
   ]
  },
  {
   "cell_type": "code",
   "execution_count": 13,
   "id": "a85bb3c3",
   "metadata": {},
   "outputs": [],
   "source": [
    "#rename column\n",
    "df.rename(columns= {'Shadi_Status':'Marital_Status'}, inplace=True)"
   ]
  },
  {
   "cell_type": "code",
   "execution_count": 14,
   "id": "ba3fc8b8",
   "metadata": {},
   "outputs": [],
   "source": [
    "df.columns"
   ]
  },
  {
   "cell_type": "code",
   "execution_count": 15,
   "id": "a2484863",
   "metadata": {},
   "outputs": [],
   "source": [
    "# describe() method returns description of the data in the DataFrame (i.e. count, mean, std, etc)\n",
    "df.describe()"
   ]
  },
  {
   "cell_type": "code",
   "execution_count": 16,
   "id": "2c380030",
   "metadata": {},
   "outputs": [],
   "source": [
    "# use describe() for specific columns\n",
    "df[['Age', 'Orders', 'Amount']].describe()"
   ]
  },
  {
   "cell_type": "markdown",
   "id": "cc649558",
   "metadata": {},
   "source": [
    "# Exploratory Data Analysis"
   ]
  },
  {
   "cell_type": "markdown",
   "id": "504b419c",
   "metadata": {},
   "source": [
    "### Gender"
   ]
  },
  {
   "cell_type": "code",
   "execution_count": 17,
   "id": "84c7918d",
   "metadata": {
    "scrolled": false
   },
   "outputs": [],
   "source": [
    "# plotting a bar chart for Gender and it's count\n",
    "\n",
    "plt.figure(figsize=(5,6))\n",
    "ax = sns.countplot(x = 'Gender',data = df)\n",
    "plt.title('Number of Male and Female buyers')\n",
    "\n",
    "for bars in ax.containers:\n",
    "    ax.bar_label(bars)\n",
    "\n",
    "plt.show()"
   ]
  },
  {
   "cell_type": "code",
   "execution_count": 18,
   "id": "c5fd4566",
   "metadata": {},
   "outputs": [],
   "source": [
    "# plotting a bar chart for gender vs total amount\n",
    "\n",
    "sales_gen = df.groupby(['Gender'], as_index=False)['Amount'].sum().sort_values(by='Amount', ascending=False)\n",
    "\n",
    "plt.figure(figsize=(5,6))\n",
    "sns.barplot(x = 'Gender',y= 'Amount' ,data = sales_gen)\n",
    "plt.title('Gender vs Total Amount')\n",
    "\n",
    "plt.show()"
   ]
  },
  {
   "cell_type": "markdown",
   "id": "1e108cec",
   "metadata": {},
   "source": [
    "- *From above graphs we can see that most of the buyers are females and even the purchasing power of females are greater than men.*"
   ]
  },
  {
   "cell_type": "markdown",
   "id": "dcc927f9",
   "metadata": {},
   "source": [
    "### Age"
   ]
  },
  {
   "cell_type": "code",
   "execution_count": 19,
   "id": "88563dec",
   "metadata": {},
   "outputs": [],
   "source": [
    "plt.figure(figsize=(12,6))\n",
    "ax = sns.countplot(data = df, x = 'Age Group', hue = 'Gender')\n",
    "plt.xlabel('Age Group')\n",
    "plt.ylabel('Number of buyers')\n",
    "plt.title('Number of buyers from different age groups')\n",
    "\n",
    "for bars in ax.containers:\n",
    "    ax.bar_label(bars)\n",
    "    \n",
    "plt.show()"
   ]
  },
  {
   "cell_type": "code",
   "execution_count": 20,
   "id": "bfbe3937",
   "metadata": {},
   "outputs": [],
   "source": [
    "# Total Amount vs Age Group\n",
    "\n",
    "sales_age = df.groupby(['Age Group'], as_index=False)['Amount'].sum().sort_values(by='Amount', ascending=False)\n",
    "plt.figure(figsize=(12,6))\n",
    "sns.barplot(x = 'Age Group',y= 'Amount' ,data = sales_age)\n",
    "plt.xlabel('Age Group')\n",
    "plt.ylabel('Amount')\n",
    "plt.title('Total Amount vs Age Group')\n",
    "\n",
    "plt.show()"
   ]
  },
  {
   "cell_type": "markdown",
   "id": "abaa6c07",
   "metadata": {},
   "source": [
    "- *From above graphs we can see that most of the buyers are of age group between 26-35 yrs female*"
   ]
  },
  {
   "cell_type": "markdown",
   "id": "83a49098",
   "metadata": {},
   "source": [
    "### State"
   ]
  },
  {
   "cell_type": "code",
   "execution_count": 21,
   "id": "dfac4f2c",
   "metadata": {},
   "outputs": [],
   "source": [
    "# total number of orders from top 10 states\n",
    "\n",
    "sales_state = df.groupby(['State'], as_index=False)['Orders'].sum().sort_values(by='Orders', ascending=False).head(10)\n",
    "\n",
    "plt.figure(figsize=(16,5))\n",
    "sns.barplot(data = sales_state, x = 'State',y= 'Orders')\n",
    "plt.xlabel('States')\n",
    "plt.ylabel('Orders')\n",
    "plt.title('Total number of orders from top 10 states')\n",
    "\n",
    "plt.show()"
   ]
  },
  {
   "cell_type": "code",
   "execution_count": 22,
   "id": "a66617bc",
   "metadata": {},
   "outputs": [],
   "source": [
    "# total amount/sales from top 10 states\n",
    "\n",
    "sales_state = df.groupby(['State'], as_index=False)['Amount'].sum().sort_values(by='Amount', ascending=False).head(10)\n",
    "\n",
    "plt.figure(figsize=(12,5))\n",
    "sns.barplot(data = sales_state, x = 'State',y= 'Amount')\n",
    "plt.xticks(rotation='vertical')\n",
    "plt.xlabel('States')\n",
    "plt.ylabel('Amount')\n",
    "plt.title('Total Sales from Top 10 states')\n",
    "\n",
    "plt.show()"
   ]
  },
  {
   "cell_type": "markdown",
   "id": "39d46e9e",
   "metadata": {},
   "source": [
    "- *From above graphs we can see that most of the orders & total sales/amount are from Uttar Pradesh, Maharashtra and Karnataka.*\n"
   ]
  },
  {
   "cell_type": "markdown",
   "id": "89f865a5",
   "metadata": {},
   "source": [
    "### Marital Status"
   ]
  },
  {
   "cell_type": "code",
   "execution_count": 23,
   "id": "77e6635e",
   "metadata": {},
   "outputs": [],
   "source": [
    "plt.figure(figsize=(5,6))\n",
    "ax = sns.countplot(data = df, x = 'Marital_Status')\n",
    "plt.xlabel('Marital Status')\n",
    "plt.ylabel('Number of Buyers')\n",
    "plt.title('Number of Married and Unmaried Customers')\n",
    "\n",
    "for bars in ax.containers:\n",
    "    ax.bar_label(bars)\n",
    "    \n",
    "plt.show()"
   ]
  },
  {
   "cell_type": "code",
   "execution_count": 24,
   "id": "2d8c7b27",
   "metadata": {},
   "outputs": [],
   "source": [
    "sales_state = df.groupby(['Marital_Status', 'Gender'], as_index=False)['Amount'].sum().sort_values(by='Amount', ascending=False)\n",
    "\n",
    "plt.figure(figsize= (6,5))\n",
    "sns.barplot(data = sales_state, x = 'Marital_Status',y= 'Amount', hue='Gender')\n",
    "plt.xlabel('Marital Status')\n",
    "plt.ylabel('Amount')\n",
    "plt.title('Total amount of sales vs Marital status of both genders')\n",
    "\n",
    "plt.show()"
   ]
  },
  {
   "cell_type": "markdown",
   "id": "37afbb83",
   "metadata": {},
   "source": [
    "- *From above graphs we can see that most of the buyers are married (women) and they have high purchasing power*"
   ]
  },
  {
   "cell_type": "markdown",
   "id": "230cfe66",
   "metadata": {},
   "source": [
    "### Occupation"
   ]
  },
  {
   "cell_type": "code",
   "execution_count": 25,
   "id": "4deb41f4",
   "metadata": {},
   "outputs": [],
   "source": [
    "plt.figure(figsize= (12,5))\n",
    "\n",
    "ax = sns.countplot(data = df, x = 'Occupation')\n",
    "plt.xticks(rotation='vertical')\n",
    "plt.xlabel('Occupation')\n",
    "plt.ylabel('Number of Buyers')\n",
    "plt.title('Buyer Distribution by Occupation')\n",
    "\n",
    "for bars in ax.containers:\n",
    "    ax.bar_label(bars)\n",
    "    \n",
    "plt.show()"
   ]
  },
  {
   "cell_type": "code",
   "execution_count": 26,
   "id": "4eb620f6",
   "metadata": {},
   "outputs": [],
   "source": [
    "sales_state = df.groupby(['Occupation'], as_index=False)['Amount'].sum().sort_values(by='Amount', ascending=False)\n",
    "\n",
    "plt.figure(figsize= (12,5))\n",
    "sns.barplot(data = sales_state, x = 'Occupation',y= 'Amount')\n",
    "plt.xticks(rotation='vertical')\n",
    "plt.xlabel('Occupation')\n",
    "plt.ylabel('Amount')\n",
    "plt.title('Sales by Occupation')\n",
    "\n",
    "plt.show()"
   ]
  },
  {
   "cell_type": "markdown",
   "id": "26c22532",
   "metadata": {},
   "source": [
    "- *From above graphs we can see that most of the buyers are working in IT, Healthcare and Aviation sector*"
   ]
  },
  {
   "cell_type": "markdown",
   "id": "40518579",
   "metadata": {},
   "source": [
    "### Product Category"
   ]
  },
  {
   "cell_type": "code",
   "execution_count": 27,
   "id": "3e7e4d39",
   "metadata": {},
   "outputs": [],
   "source": [
    "plt.figure(figsize= (12,5))\n",
    "ax = sns.countplot(data = df, x = 'Product_Category')\n",
    "plt.xticks(rotation='vertical')\n",
    "plt.xlabel('Product Category')\n",
    "plt.ylabel('Number of buyers')\n",
    "plt.title('Number of buyers by product category')\n",
    "\n",
    "for bars in ax.containers:\n",
    "    ax.bar_label(bars)\n",
    "\n",
    "plt.show()"
   ]
  },
  {
   "cell_type": "code",
   "execution_count": 28,
   "id": "99f5c6f3",
   "metadata": {},
   "outputs": [],
   "source": [
    "sales_state = df.groupby(['Product_Category'], as_index=False)['Amount'].sum().sort_values(by='Amount', ascending=False).head(10)\n",
    "\n",
    "plt.figure(figsize= (12,5))\n",
    "sns.barplot(data = sales_state, x = 'Product_Category',y= 'Amount')\n",
    "plt.xticks(rotation='vertical')\n",
    "plt.xlabel('Product Category')\n",
    "plt.ylabel('Amount')\n",
    "plt.title('Sales by product category')\n",
    "\n",
    "\n",
    "plt.show()\n"
   ]
  },
  {
   "cell_type": "markdown",
   "id": "5be54973",
   "metadata": {},
   "source": [
    "- *From above graphs we can see that most of the sold products are from Food, Clothing and Electronics category*"
   ]
  },
  {
   "cell_type": "code",
   "execution_count": 29,
   "id": "f33d23c7",
   "metadata": {},
   "outputs": [],
   "source": [
    "# top 10 most sold products (same thing as above)\n",
    "sales_state = df.groupby(['Product_ID'], as_index=False)['Orders'].sum().sort_values(by='Orders', ascending=False).head(10)\n",
    "\n",
    "plt.figure(figsize= (12,5))\n",
    "sns.barplot(data = sales_state, x = 'Product_ID',y= 'Orders')\n",
    "plt.xlabel('Product ID')\n",
    "plt.ylabel('Number of Orders')\n",
    "plt.title('Number of Orders by product ID')\n",
    "\n",
    "plt.show()"
   ]
  },
  {
   "cell_type": "markdown",
   "id": "7d96e04f",
   "metadata": {},
   "source": [
    "- *From this graph we can see that products with these product IDs are the most sold ones.*"
   ]
  },
  {
   "cell_type": "markdown",
   "id": "5b6dff15",
   "metadata": {},
   "source": [
    "## Key Observations:\n",
    "\n",
    "- Most of the buyers were females, and their purchasing power surpassed that of men.\n",
    "- Buyers in the age group of 26-35 years, especially females, constituted a significant portion of the customer base.\n",
    "- Uttar Pradesh, Maharashtra, and Karnataka were the top states contributing to the majority of orders and total sales.\n",
    "- Married women demonstrated a higher purchasing power compared to other demographics.\n",
    "- Occupations in IT, Healthcare, and Aviation sectors were prominent among buyers.\n",
    "- The most sold product categories included Food, Clothing, and Electronics**.\n",
    "- Top Sold Products:\n",
    "  We identified the top 10 most sold products based on the number of orders, providing insights into customer preferences and popular product choices."
   ]
  },
  {
   "cell_type": "markdown",
   "id": "36f366c8",
   "metadata": {},
   "source": [
    "## Conclusions:\n",
    "The Diwali Sales Analysis project provided valuable insights into customer behavior and sales trends during the festive season. The data revealed patterns that can be leveraged to optimize marketing strategies, target specific customer demographics, and tailor product offerings. Understanding the preferences of different age groups, genders, and regions can assist businesses in making informed decisions to enhance their sales and profitability.\n",
    "\n",
    "The project showcased the power of data analysis and visualization in extracting meaningful information from raw data. By applying data science techniques, we transformed raw sales data into actionable insights, contributing to effective decision-making and strategic planning."
   ]
  }
 ],
 "metadata": {
  "kernelspec": {
   "display_name": "Python 3 (ipykernel)",
   "language": "python",
   "name": "python3"
  },
  "language_info": {
   "codemirror_mode": {
    "name": "ipython",
    "version": 3
   },
   "file_extension": ".py",
   "mimetype": "text/x-python",
   "name": "python",
   "nbconvert_exporter": "python",
   "pygments_lexer": "ipython3",
   "version": "3.11.3"
  }
 },
 "nbformat": 4,
 "nbformat_minor": 5
}
